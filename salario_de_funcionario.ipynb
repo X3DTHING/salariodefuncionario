{
  "nbformat": 4,
  "nbformat_minor": 0,
  "metadata": {
    "colab": {
      "provenance": [],
      "authorship_tag": "ABX9TyMug5VCiw9wQ3CjCq6f1W4K",
      "include_colab_link": true
    },
    "kernelspec": {
      "name": "python3",
      "display_name": "Python 3"
    },
    "language_info": {
      "name": "python"
    }
  },
  "cells": [
    {
      "cell_type": "markdown",
      "metadata": {
        "id": "view-in-github",
        "colab_type": "text"
      },
      "source": [
        "<a href=\"https://colab.research.google.com/github/X3DTHING/salariodefuncionario/blob/main/salario_de_funcionario.ipynb\" target=\"_parent\"><img src=\"https://colab.research.google.com/assets/colab-badge.svg\" alt=\"Open In Colab\"/></a>"
      ]
    },
    {
      "cell_type": "code",
      "execution_count": 1,
      "metadata": {
        "colab": {
          "base_uri": "https://localhost:8080/"
        },
        "id": "gCO5BLWeyicl",
        "outputId": "b5b1099c-3280-4fe2-bc38-299835576c38"
      },
      "outputs": [
        {
          "output_type": "stream",
          "name": "stdout",
          "text": [
            "Digite o salário do funcionário: R$ 1450\n",
            "\n",
            "Salário Bruto: R$ 1450.00\n",
            "Desconto (8%): R$ 116.00\n",
            "Salário Líquido: R$ 1334.00\n"
          ]
        }
      ],
      "source": [
        "# Solicita o salário do funcionário\n",
        "salario = float(input(\"Digite o salário do funcionário: R$ \"))\n",
        "\n",
        "# Calcula o desconto com base no salário\n",
        "if salario > 5000:\n",
        "    desconto_percentual = 18\n",
        "elif salario <= 2500:\n",
        "    desconto_percentual = 8\n",
        "else:\n",
        "    desconto_percentual = 0\n",
        "\n",
        "# Calcula o valor do desconto e o salário líquido\n",
        "desconto = (salario * desconto_percentual) / 100\n",
        "salario_liquido = salario - desconto\n",
        "\n",
        "# Mostra os resultados\n",
        "print(f\"\\nSalário Bruto: R$ {salario:.2f}\")\n",
        "print(f\"Desconto ({desconto_percentual}%): R$ {desconto:.2f}\")\n",
        "print(f\"Salário Líquido: R$ {salario_liquido:.2f}\")\n"
      ]
    }
  ]
}